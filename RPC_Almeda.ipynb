{
 "cells": [
  {
   "cell_type": "markdown",
   "metadata": {},
   "source": [
    "## Challenge: Rock, Paper, Scissors"
   ]
  },
  {
   "cell_type": "markdown",
   "metadata": {},
   "source": [
    "## Purpose\n",
    "Create a game where the user can play a game of rock, paper, scissors against a computer. Set a play choice (rock, paper, or scissors) for the computer player and during the program, request for the user to input their play choice.\n",
    "\n",
    "The rules in Rock, Paper, Scissors are:\n",
    "\n",
    "    Rock beats scissors\n",
    "    Scissors beats paper\n",
    "    Paper beats rock\n",
    "\n",
    "If the user wins, then display \"You win!\" If they lose against the computer, then display \"You lose.\" If the computer and the user have the same play choice, display \"It's a draw.\"\n",
    "\n",
    "Also ask the user if they would like to play again. If they do, start the game again but if not, thank the user for playing the game."
   ]
  },
  {
   "cell_type": "markdown",
   "metadata": {},
   "source": [
    "## 1. Create a Welcome Message"
   ]
  },
  {
   "cell_type": "code",
   "execution_count": 3,
   "metadata": {},
   "outputs": [
    {
     "name": "stdout",
     "output_type": "stream",
     "text": [
      "Welcome to Rock, Paper, Scissors\n"
     ]
    }
   ],
   "source": [
    "print(\"Welcome to Rock, Paper, Scissors!\")"
   ]
  },
  {
   "cell_type": "markdown",
   "metadata": {},
   "source": [
    "## 2. Define the choices"
   ]
  },
  {
   "cell_type": "code",
   "execution_count": 4,
   "metadata": {},
   "outputs": [],
   "source": [
    "userAction = str(input(\"Enter rock, paper, or scissors: \"))\n",
    "actions = [\"rock\", \"paper\", \"scissors\"]"
   ]
  },
  {
   "cell_type": "markdown",
   "metadata": {},
   "source": [
    "## 3. Create the game logic"
   ]
  },
  {
   "cell_type": "markdown",
   "metadata": {},
   "source": [
    "#### Hint: think about if/elif/Else\n",
    "#### Hint: have the computer randomly select a choice. "
   ]
  },
  {
   "cell_type": "code",
   "execution_count": null,
   "metadata": {},
   "outputs": [],
   "source": [
    "import random as rand\n",
    "\n",
    "compAction = rand.choice(actions)\n",
    "\n",
    "compScore = 0\n",
    "userScore = 0\n",
    "\n",
    "if (userAction == compAction):\n",
    "    print(f\"You and the computer selected {userAction}. It's a tie!\")\n",
    "elif (userAtion == \"rock\"):\n",
    "    if (compAction == \"paper\"):\n",
    "        print(\"Paper covers rock. You lose!\")\n",
    "        compScore += 1\n",
    "    elif (compAction == \"scissors\"):\n",
    "        print(\"Rock smashes scissors. You win!\")\n",
    "        userScore += 1\n",
    "elif (userAction == \"paper\"):\n",
    "    if (compAction == \"scissors\"):\n",
    "        print(\"Scissors cuts paper. You lose!\")\n",
    "        compScore += 1\n",
    "    elif (compAction == \"rock\"):\n",
    "        print(\"Paper covers rock. You win!\")\n",
    "        userScore += 1\n",
    "elif (userAction == \"scissors\"):\n",
    "    if (compAction == \"rock\"):\n",
    "        print(\"Rock smashes scissors. You lose!\")\n",
    "        compScorre += 1\n",
    "    elif (compAction == \"paper\"):\n",
    "        print(\"Scissors cuts paper. You win!\")\n",
    "        userScore += 1\n",
    "        \n",
    "userChoice + str(input(\"Would you like to play again (y/n)?: \"))\n",
    "if (userChoice == 'n'):\n",
    "    print(f\"Your score is: {userScore}\")\n",
    "    print(f\"The computer's score is: {compScore}\")\n",
    "\n",
    "while (choice == 'y'):\n",
    "    userAction = str(input(\"Enter rock, paper, or scissors: \"))\n",
    "    \n",
    "    if (userAction == compAction):\n",
    "    print(f\"You and the computer selected {userAction}. It's a tie!\")\n",
    "elif (userAtion == \"rock\"):\n",
    "    if (compAction == \"paper\"):\n",
    "        print(\"Paper covers rock. You lose!\")\n",
    "        compScore += 1\n",
    "    elif (compAction == \"scissors\"):\n",
    "        print(\"Rock smashes scissors. You win!\")\n",
    "        userScore += 1\n",
    "elif (userAction == \"paper\"):\n",
    "    if (compAction == \"scissors\"):\n",
    "        print(\"Scissors cuts paper. You lose!\")\n",
    "        compScore += 1\n",
    "    elif (compAction == \"rock\"):\n",
    "        print(\"Paper covers rock. You win!\")\n",
    "        userScore += 1\n",
    "elif (userAction == \"scissors\"):\n",
    "    if (compAction == \"rock\"):\n",
    "        print(\"Rock smashes scissors. You lose!\")\n",
    "        compScorre += 1\n",
    "    elif (compAction == \"paper\"):\n",
    "        print(\"Scissors cuts paper. You win!\")\n",
    "        userScore += 1\n",
    "    \n",
    "    userChoice + str(input(\"Would you like to play again (y/n)?: \"))\n",
    "    \n",
    "    if (choice == 'n' ):\n",
    "          print(f\"Your score is: {userScore}\")\n",
    "    print(f\"The computer's score is: {compScore}\")\n",
    "\n",
    "    "
   ]
  },
  {
   "cell_type": "markdown",
   "metadata": {},
   "source": [
    "# Bonus"
   ]
  },
  {
   "cell_type": "markdown",
   "metadata": {},
   "source": [
    "## 1. Include the rules of the game for a new user"
   ]
  },
  {
   "cell_type": "code",
   "execution_count": 12,
   "metadata": {},
   "outputs": [
    {
     "name": "stdout",
     "output_type": "stream",
     "text": [
      "Rules of the Game: \n",
      "1. Rock beats scissors\n",
      "2. Paper beats rock\n",
      "3. Scissors beats paper\n",
      "4. If both parties select the same action, it is a tie.\n"
     ]
    }
   ],
   "source": [
    "print(\"Rules of the Game: \")\n",
    "print(\"1. Rock beats scissors\\n2. Paper beats rock\\n3. Scissors beats paper\")\n",
    "print(\"4. If both parties select the same action, it is a tie.\")"
   ]
  },
  {
   "cell_type": "markdown",
   "metadata": {},
   "source": [
    "## 2. Add only valid inputs for rock, paper, scissor choice AND guided message"
   ]
  },
  {
   "cell_type": "markdown",
   "metadata": {},
   "source": [
    "#### Hint: use a function"
   ]
  },
  {
   "cell_type": "code",
   "execution_count": null,
   "metadata": {},
   "outputs": [],
   "source": [
    "def validAction(playerMove):\n",
    "    if (playerMove != 'rock' or playerMove != 'paper' or playerMove != 'scissors'):\n",
    "        print(\"You did not enter rock, paper, or scissors.\")"
   ]
  },
  {
   "cell_type": "markdown",
   "metadata": {},
   "source": [
    "## 3. Add only valid inputs for continuing to play the game AND guided message"
   ]
  },
  {
   "cell_type": "markdown",
   "metadata": {},
   "source": [
    "#### Hint: use a function"
   ]
  },
  {
   "cell_type": "code",
   "execution_count": null,
   "metadata": {},
   "outputs": [],
   "source": [
    "def validChoice(playerDecision):\n",
    "    if (playerDecision != 'y' or playerDecision != 'n'):\n",
    "        print(\"You did not enter 'y' or 'n'\")"
   ]
  },
  {
   "cell_type": "markdown",
   "metadata": {},
   "source": [
    "## 4. Put all together in one cell"
   ]
  },
  {
   "cell_type": "code",
   "execution_count": null,
   "metadata": {},
   "outputs": [
    {
     "name": "stdout",
     "output_type": "stream",
     "text": [
      "Welcome to Rock, Paper, Scissors!\n",
      "\n",
      "Rules of the Game: \n",
      "1. Rock smashes scissors\n",
      "2. Paper covers rock\n",
      "3. Scissors cuts paper\n",
      "4. If both parties select the same action, it's a tie\n",
      "\n",
      "Enter rock, paper, or scissors: n\n",
      "You did not enter rock, paper, or scissors.\n",
      "\n",
      "Would you like to play again (y/n)?: y\n",
      "\n",
      "Enter rock, paper, or scissors: n\n"
     ]
    }
   ],
   "source": [
    "# importing library\n",
    "import random as rand\n",
    "\n",
    "# Counter variables for scores\n",
    "compScore = 0\n",
    "playerScore = 0\n",
    "\n",
    "# List for actions computer will choose from\n",
    "actions = [\"rock\", \"paper\", \"scissors\"]\n",
    "        \n",
    "# Displaying game rules\n",
    "print(\"Welcome to Rock, Paper, Scissors!\\n\")\n",
    "print(\"Rules of the Game: \")\n",
    "print(\"1. Rock smashes scissors\\n2. Paper covers rock\\n3. Scissors cuts paper\")\n",
    "print(\"4. If both parties select the same action, it's a tie\")\n",
    "\n",
    "# Choosing actions\n",
    "playerAction = input(\"\\nEnter rock, paper, or scissors: \")\n",
    "compAction = rand.choice(actions)\n",
    "    \n",
    "# Determine if player wins or loses, then accumulate scores\n",
    "if (playerAction == compAction):\n",
    "    print(f\"You and the computer selected {playerAction}. It's a tie!\")\n",
    "elif (playerAction == \"rock\"):\n",
    "    if (compAction == \"paper\"):\n",
    "        print(\"Paper covers rock. You lose!\")\n",
    "        compScore += 1\n",
    "    elif (compAction == \"scissors\"):\n",
    "        print(\"Rock smashes scissors. You win!\")\n",
    "        playerScore += 1\n",
    "elif (playerAction == \"paper\"):\n",
    "    if (compAction == \"scissors\"):\n",
    "        print(\"Scissors cuts paper. You lose!\")\n",
    "        compScore += 1\n",
    "    elif (compAction == \"rock\"):\n",
    "        print(\"Paper covers rock. You win!\")\n",
    "        playerScore += 1\n",
    "elif (playerAction == \"scissors\"):\n",
    "    if (compAction == \"rock\"):\n",
    "        print(\"Rock smashes scissors. You lose!\")\n",
    "        compScore += 1\n",
    "    elif (compAction == \"paper\"):\n",
    "        print(\"Scissors cuts paper. You win!\")\n",
    "        playerScore += 1\n",
    "\n",
    "# Ask if player would like to play again\n",
    "playerChoice = input(\"\\nWould you like to play again (y/n)?: \")\n",
    "\n",
    "# If player answers 'n', display scores\n",
    "if (playerChoice == 'n'):\n",
    "    print(f\"Your score is: {playerScore}\")\n",
    "    print(f\"The computer's score is: {compScore}\")\n",
    "\n",
    "# If player answers 'y', loop game until player wants to stop\n",
    "while (playerChoice == 'y'):\n",
    "    \n",
    "    playerAction = input(\"\\nEnter rock, paper, or scissors: \")\n",
    "    compAction = rand.choice(actions)\n",
    "    \n",
    "    if (playerAction == compAction):\n",
    "        print(f\"You and the computer selected {playerAction}. It's a tie!\")\n",
    "    elif (playerAction == \"rock\"):\n",
    "        if (compAction == \"paper\"):\n",
    "            print(\"Paper covers rock. You lose!\")\n",
    "            compScore += 1\n",
    "        elif (compAction == \"scissors\"):\n",
    "            print(\"Rock smashes scissors. You win!\")\n",
    "            playerScore += 1\n",
    "    elif (playerAction == \"paper\"):\n",
    "        if (compAction == \"scissors\"):\n",
    "            print(\"Scissors cuts paper. You lose!\")\n",
    "            compScore += 1\n",
    "        elif (compAction == \"rock\"):\n",
    "            print(\"Paper covers rock. You win!\")\n",
    "            playerScore += 1\n",
    "    elif (playerAction == \"scissors\"):\n",
    "        if (compAction == \"rock\"):\n",
    "            print(\"Rock smashes scissors. You lose!\")\n",
    "            compScore += 1\n",
    "        elif (compAction == \"paper\"):\n",
    "            print(\"Scissors cuts paper. You win!\")\n",
    "            playerScore += 1\n",
    "    \n",
    "    playerChoice = input(\"\\nWould you like to play again (y/n)?: \")\n",
    "    \n",
    "    if (playerChoice == 'n' ):\n",
    "        print(f\"\\nYour score is: {playerScore}\")\n",
    "        print(f\"The computer's score is: {compScore}\")\n",
    "        \n",
    "          "
   ]
  },
  {
   "cell_type": "code",
   "execution_count": null,
   "metadata": {},
   "outputs": [],
   "source": []
  },
  {
   "cell_type": "code",
   "execution_count": null,
   "metadata": {},
   "outputs": [],
   "source": []
  }
 ],
 "metadata": {
  "kernelspec": {
   "display_name": "Python 3 (ipykernel)",
   "language": "python",
   "name": "python3"
  },
  "language_info": {
   "codemirror_mode": {
    "name": "ipython",
    "version": 3
   },
   "file_extension": ".py",
   "mimetype": "text/x-python",
   "name": "python",
   "nbconvert_exporter": "python",
   "pygments_lexer": "ipython3",
   "version": "3.9.13"
  }
 },
 "nbformat": 4,
 "nbformat_minor": 4
}
