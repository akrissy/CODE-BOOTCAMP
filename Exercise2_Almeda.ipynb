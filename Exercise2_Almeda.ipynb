{
 "cells": [
  {
   "cell_type": "markdown",
   "metadata": {},
   "source": [
    "## Python Module 2 Exercises"
   ]
  },
  {
   "cell_type": "markdown",
   "metadata": {},
   "source": [
    "1. Print out a data type of a variable?"
   ]
  },
  {
   "cell_type": "code",
   "execution_count": 63,
   "metadata": {},
   "outputs": [
    {
     "data": {
      "text/plain": [
       "str"
      ]
     },
     "execution_count": 63,
     "metadata": {},
     "output_type": "execute_result"
    }
   ],
   "source": [
    "type(\"Hello\")"
   ]
  },
  {
   "cell_type": "markdown",
   "metadata": {},
   "source": [
    "2. Round 4.5667 to the nearest hundreth using a build-in function, round()."
   ]
  },
  {
   "cell_type": "code",
   "execution_count": 6,
   "metadata": {},
   "outputs": [],
   "source": [
    "number = 4.5667\n",
    "roundedNumber = round(number)"
   ]
  },
  {
   "cell_type": "markdown",
   "metadata": {},
   "source": [
    "3. Convert \"657\" to an integer data type"
   ]
  },
  {
   "cell_type": "code",
   "execution_count": 7,
   "metadata": {},
   "outputs": [
    {
     "name": "stdout",
     "output_type": "stream",
     "text": [
      "657\n"
     ]
    }
   ],
   "source": [
    "x = \"657\"\n",
    "print(int(x))"
   ]
  },
  {
   "cell_type": "markdown",
   "metadata": {},
   "source": [
    "4. Write a function to calculate the miles per gallon.\n",
    "Get a miles driven and gallons used from a user and call your function to calculate the miles per gallon. "
   ]
  },
  {
   "cell_type": "code",
   "execution_count": 157,
   "metadata": {},
   "outputs": [
    {
     "name": "stdout",
     "output_type": "stream",
     "text": [
      "Please enter the miles driven: 15\n",
      "Please enter gallons used: 3\n",
      "The miles per gallon is: 5.00\n"
     ]
    }
   ],
   "source": [
    "# function to calculate miles per gallon\n",
    "def compute(x, y):\n",
    "    mpg = (x / y)\n",
    "    print(f\"The miles per gallon is: {mpg:.2f}\")\n",
    "\n",
    "    return\n",
    "\n",
    "# get user input for miles and gallons\n",
    "miles = float(input(\"Please enter the miles driven: \"))\n",
    "gallons = float(input(\"Please enter gallons used: \"))\n",
    "\n",
    "# calling function to compute miles per gallon\n",
    "compute(miles, gallons)"
   ]
  },
  {
   "cell_type": "markdown",
   "metadata": {},
   "source": [
    "5. Enhance your function from exercise 4. Additionally, get a gas price per gallon from a user and write a program to compute the total gas cost and cost per mile. \n",
    "\n",
    "The output should look something like this:\n",
    "\n",
    "    Enter miles driven:            150\n",
    "    Enter gallons of gas used:     15\n",
    "    Enter cost per gallon:          3\n",
    "\n",
    "    Miles Per Gallon:   10.0\n",
    "    Total Gas Cost:     45.0\n",
    "    Cost per Mile:      0.3\n"
   ]
  },
  {
   "cell_type": "code",
   "execution_count": 155,
   "metadata": {},
   "outputs": [
    {
     "name": "stdout",
     "output_type": "stream",
     "text": [
      "Please enter the miles driven: 150\n",
      "Please enter gallons used: 15\n",
      "Please enter the cost per gallon: 3\n",
      "\n",
      "The miles per gallon is:  10.0\n",
      "The total gas cost is: $ 45.0\n",
      "The cost per mile is: $ 0.3\n"
     ]
    }
   ],
   "source": [
    "# function to calculate miles per gallon\n",
    "def compute(x, y, z):\n",
    "    print(\"\\nThe miles per gallon is: \", (x / y))\n",
    "    print(\"The total gas cost is: $\", (z * y))\n",
    "    print(\"The cost per mile is: $\", ((z * y) / x))\n",
    "\n",
    "    return\n",
    "\n",
    "# get user input for miles and gallons\n",
    "miles = float(input(\"Please enter the miles driven: \"))\n",
    "gallons = float(input(\"Please enter gallons used: \"))\n",
    "cost = float(input(\"Please enter the cost per gallon: \"))\n",
    "\n",
    "# calling function to compute miles per gallon\n",
    "compute(miles, gallons, cost)"
   ]
  },
  {
   "cell_type": "markdown",
   "metadata": {},
   "source": [
    "6. Write a function called multiply_two() that accepts two parameters. The function should print a message like '15 + 2 = 17'.  Randomly generate two numbers between 1 and 100, then call the function with the two random numbers."
   ]
  },
  {
   "cell_type": "code",
   "execution_count": 26,
   "metadata": {},
   "outputs": [
    {
     "name": "stdout",
     "output_type": "stream",
     "text": [
      "51 * 30 = 1530\n"
     ]
    }
   ],
   "source": [
    "#import library\n",
    "import random as rand\n",
    "\n",
    "# function to multiply the two random numbers\n",
    "def multiply_two(x, y):\n",
    "    result = x * y\n",
    "    print(x, \"*\", y, \"=\", result)\n",
    "    \n",
    "    return\n",
    "\n",
    "# generate random numbers between 1-100\n",
    "num1 = (rand.randint(1, 100))\n",
    "num2 = (rand.randint(1, 100))\n",
    "\n",
    "# calling function\n",
    "multiply_two(num1, num2)\n",
    "\n",
    "\n"
   ]
  },
  {
   "cell_type": "markdown",
   "metadata": {},
   "source": [
    "7. Write a function called make_shirt() that accepts a size and the text of a message. The function should print a sentence summarizing the size of the shirt and the message printed on it. The default shirt size is large and default message is 'I love Python!' Make a default size shirt with a message, a medium shirt with the default message, and a shirt of any size with a different message."
   ]
  },
  {
   "cell_type": "code",
   "execution_count": 20,
   "metadata": {},
   "outputs": [
    {
     "name": "stdout",
     "output_type": "stream",
     "text": [
      "Enter your size: m\n"
     ]
    },
    {
     "data": {
      "text/plain": [
       "\"The shirt is a medium with a message printed on it: 'I love Python!'\""
      ]
     },
     "execution_count": 20,
     "metadata": {},
     "output_type": "execute_result"
    }
   ],
   "source": [
    "def make_shirt(size, text):\n",
    "    \n",
    "    if (size == 'L' or size == 'l'):\n",
    "        text = \"The shirt is a large with a message printed on it: 'I love Python!'\"\n",
    "    elif (size == 'M' or size == 'm'):\n",
    "        text = \"The shirt is a medium with a message printed on it: 'I love Python!'\"\n",
    "    else:\n",
    "        text = \"You entered a size other than medium or large with a message printed on it: 'I love programming!'\"\n",
    "    \n",
    "    return text\n",
    " \n",
    "fit = str(input(\"Enter your size: \"))\n",
    "msg = 0\n",
    "make_shirt(fit, msg)"
   ]
  },
  {
   "cell_type": "markdown",
   "metadata": {},
   "source": [
    "8. Create a function for a multiplication table.  Get a number from a user and then call you function which produces a multiplication table for that number.\n",
    "The output should look something like this:\n",
    "\n",
    "        Enter a number: 3\n",
    "        3 X 1 = 3\n",
    "        3 X 2 = 6\n",
    "        3 X 3 = 9\n",
    "        3 X 4 = 12\n",
    "        3 X 5 = 15\n",
    "        3 X 6 = 18\n",
    "        3 X 7 = 21\n",
    "        3 X 8 = 24\n",
    "        3 X 9 = 27\n",
    "        "
   ]
  },
  {
   "cell_type": "code",
   "execution_count": 158,
   "metadata": {},
   "outputs": [
    {
     "name": "stdout",
     "output_type": "stream",
     "text": [
      "Enter a number: 3\n",
      "3 x 1 = 3\n",
      "3 x 2 = 6\n",
      "3 x 3 = 9\n",
      "3 x 4 = 12\n",
      "3 x 5 = 15\n",
      "3 x 6 = 18\n",
      "3 x 7 = 21\n",
      "3 x 8 = 24\n",
      "3 x 9 = 27\n"
     ]
    }
   ],
   "source": [
    "# function to create multiplication table\n",
    "def multiplication_table(val):\n",
    "    print(val, \"x\", \"1 =\", val * 1)\n",
    "    print(val, \"x\", \"2 =\", val * 2)\n",
    "    print(val, \"x\", \"3 =\", val * 3)\n",
    "    print(val, \"x\", \"4 =\", val * 4)\n",
    "    print(val, \"x\", \"5 =\", val * 5)\n",
    "    print(val, \"x\", \"6 =\", val * 6)\n",
    "    print(val, \"x\", \"7 =\", val * 7)\n",
    "    print(val, \"x\", \"8 =\", val * 8)\n",
    "    print(val, \"x\", \"9 =\", val * 9)\n",
    "    \n",
    "    return\n",
    "\n",
    "# get user input\n",
    "num = int(input(\"Enter a number: \"))\n",
    "\n",
    "# calling function\n",
    "multiplication_table(num)"
   ]
  },
  {
   "cell_type": "markdown",
   "metadata": {},
   "source": [
    "9. Write a function that accepts a string and returns a string that is \n",
    "    - without any leading nor trailing blanks\n",
    "    - converts to all capital letters\n",
    "    - and replaces all blanks with a period(.).  \n",
    "\n",
    "Write a program to accept a string from a user then call your function and display the original string and changed string.  \n",
    "\n",
    "The output should look something like this:\n",
    "\n",
    "        Enter a text: may your dreams come true\n",
    "        \n",
    "        Original Text: may your dreams come true\n",
    "        New Text: MAY.YOUR.DREAMS.COME.TRUE"
   ]
  },
  {
   "cell_type": "code",
   "execution_count": 130,
   "metadata": {},
   "outputs": [
    {
     "name": "stdout",
     "output_type": "stream",
     "text": [
      "Enter a text: may your dreams come true\n",
      "\n",
      "Original Text:  may your dreams come true\n",
      "New Text:  MAY.YOUR.DREAMS.COME.TRUE\n"
     ]
    }
   ],
   "source": [
    "def conversion(text):\n",
    "    print(\"\\nOriginal Text: \", text)\n",
    "    print(\"New Text: \", \"\".join(text.upper()).replace(\" \", '.'))\n",
    "    \n",
    "    return\n",
    "\n",
    "message = str(input(\"Enter a text: \"))\n",
    "conversion(message)"
   ]
  },
  {
   "cell_type": "markdown",
   "metadata": {},
   "source": [
    "10. Write a function that returns a randomly selected character from a passed string. Write a program to accept a string from a user then call your function and display the original string and selected character.\n",
    "\n",
    "The output should look something like this:\n",
    "\n",
    "        Enter a text: functions\n",
    "        Original Text:\tfunctions\n",
    "        Random character:\ts"
   ]
  },
  {
   "cell_type": "code",
   "execution_count": 138,
   "metadata": {},
   "outputs": [
    {
     "name": "stdout",
     "output_type": "stream",
     "text": [
      "Enter a text: hello\n",
      "\n",
      "Original Text:  hello\n",
      "Random Character:  h\n"
     ]
    }
   ],
   "source": [
    "import random as rand\n",
    "\n",
    "def random_char(msg):\n",
    "    print(\"\\nOriginal Text: \", msg)\n",
    "    print(\"Random Character: \", rand.choice(msg))\n",
    "    \n",
    "    return\n",
    "\n",
    "text = str(input(\"Enter a text: \"))\n",
    "random_char(text)"
   ]
  },
  {
   "cell_type": "markdown",
   "metadata": {},
   "source": [
    "11. Write a program that asks the user to enter the width and length of a room. Once the values have been read, your program should compute and display the area of the room. The length and the width will be entered as floating point numbers. Include units in your prompt and output message; either feet or meters, depending on which unit you are more comfortable working with."
   ]
  },
  {
   "cell_type": "code",
   "execution_count": 141,
   "metadata": {},
   "outputs": [
    {
     "name": "stdout",
     "output_type": "stream",
     "text": [
      "Enter length in feet: 15\n",
      "Enter width in feet: 13\n",
      "The area of the room is: 195.0 ft.\n"
     ]
    }
   ],
   "source": [
    "length = float(input(\"Enter length in feet: \"))\n",
    "width = float(input(\"Enter width in feet: \"))\n",
    "area = print(\"The area of the room is:\", width * length, \"ft.\")"
   ]
  },
  {
   "cell_type": "markdown",
   "metadata": {},
   "source": [
    "12. The program that you create for this exercise will begin by reading the cost of a meal ordered at a restaurant from the user. Then your program will compute the tax and tip for the meal. Use your local tax rate when computing the amount of tax owing. Compute the tip as 18 percent of the meal amount (without the tax). The output from your program should include the tax amount, the tip amount, and the grand total for the meal including both the tax and the tip. Format the output so that all of the values are displayed using two decimal places."
   ]
  },
  {
   "cell_type": "code",
   "execution_count": 146,
   "metadata": {},
   "outputs": [
    {
     "name": "stdout",
     "output_type": "stream",
     "text": [
      "Enter the cost of the meal: 13.50\n",
      "The tax amount of the meal is: $0.81\n",
      "The tip amount of the meal is: $2.43\n",
      "The grand total is: $16.74\n"
     ]
    }
   ],
   "source": [
    "cost = float(input(\"Enter the cost of the meal: \"))\n",
    "tax = cost * 0.06\n",
    "tip = cost * 0.18\n",
    "total = cost + tax + tip\n",
    "\n",
    "print(f\"The tax amount of the meal is: ${tax:.2f}\")\n",
    "print(f\"The tip amount of the meal is: ${tip:.2f}\")\n",
    "print(f\"The grand total is: ${total:.2f}\")\n"
   ]
  },
  {
   "cell_type": "markdown",
   "metadata": {},
   "source": [
    "13. Write a program that reads a positive integer, n, from the user and then displays the sum of all of the integers from 1 to n. The sum of the first n positive integers can be computed using the formula: sum = (n)(n+1)/2"
   ]
  },
  {
   "cell_type": "code",
   "execution_count": 152,
   "metadata": {},
   "outputs": [
    {
     "name": "stdout",
     "output_type": "stream",
     "text": [
      "Enter a positive integer: 5\n",
      "The sum of numbers from 1 to 5 is:  15.0\n"
     ]
    }
   ],
   "source": [
    "num = int(input(\"Enter a positive integer: \"))\n",
    "\n",
    "if (num <= 0):\n",
    "    print(\"Error! Negative integer. Please run the program again and enter a positive integer.\")\n",
    "else:\n",
    "    sum = num * (num + 1) / 2\n",
    "    print(\"The sum of numbers from 1 to\", num, \"is: \", sum)"
   ]
  }
 ],
 "metadata": {
  "kernelspec": {
   "display_name": "Python 3 (ipykernel)",
   "language": "python",
   "name": "python3"
  },
  "language_info": {
   "codemirror_mode": {
    "name": "ipython",
    "version": 3
   },
   "file_extension": ".py",
   "mimetype": "text/x-python",
   "name": "python",
   "nbconvert_exporter": "python",
   "pygments_lexer": "ipython3",
   "version": "3.9.13"
  }
 },
 "nbformat": 4,
 "nbformat_minor": 4
}
