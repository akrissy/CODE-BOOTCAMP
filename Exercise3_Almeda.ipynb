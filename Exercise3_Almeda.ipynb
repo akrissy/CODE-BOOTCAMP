{
 "cells": [
  {
   "cell_type": "markdown",
   "metadata": {},
   "source": [
    "Exercise 1. Ask for a color and store that answer. \n",
    "If the answer is grey then print out you found Victor's favorite color.\n",
    "Otherwise print out the color is not Victor's favorite color."
   ]
  },
  {
   "cell_type": "code",
   "execution_count": 2,
   "metadata": {},
   "outputs": [
    {
     "name": "stdout",
     "output_type": "stream",
     "text": [
      "Enter a color: purple\n",
      "The color is not Victor's favorite color.\n"
     ]
    }
   ],
   "source": [
    "color = str(input(\"Enter a color: \"))\n",
    "\n",
    "if (color == \"grey\"):\n",
    "    print(\"You found Victor's favorite color!\")\n",
    "else:\n",
    "    print(\"The color is not Victor's favorite color.\")"
   ]
  },
  {
   "cell_type": "markdown",
   "metadata": {},
   "source": [
    "Exercise 2. Modify code from above exercise 1 and add in more conditions for other colors such as red, green, blue and then, write statements for them. "
   ]
  },
  {
   "cell_type": "code",
   "execution_count": 4,
   "metadata": {},
   "outputs": [
    {
     "name": "stdout",
     "output_type": "stream",
     "text": [
      "Enter a color: grey\n",
      "You picked the color grey, which is Victor's favorite color!\n"
     ]
    }
   ],
   "source": [
    "color = str(input(\"Enter a color: \"))\n",
    "\n",
    "if (color == \"red\"):\n",
    "    print(\"You picked the color red. This is not Victor's favorite color.\")\n",
    "elif (color == \"green\"):\n",
    "    print(\"You picked the color green. This is not Victor's favorite color.\")\n",
    "elif (color == \"blue\"):\n",
    "    print(\"You picked the color blue. This is not Victor's favorite color.\")\n",
    "elif (color == \"grey\"):\n",
    "    print(\"You picked the color grey, which is Victor's favorite color!\")"
   ]
  },
  {
   "cell_type": "markdown",
   "metadata": {},
   "source": [
    "Exercise 3. Ask for an exam score and store that number. If the number is greater than 100, then print out 'You cannot have an exam score higher than 100'. If the number doesn't exceeed 100 but is greater than or equal to 75, then print out 'You did great on your exam!'. Otherwise if they scored lower than 75, then print out 'You need to study harder'."
   ]
  },
  {
   "cell_type": "code",
   "execution_count": 9,
   "metadata": {},
   "outputs": [
    {
     "name": "stdout",
     "output_type": "stream",
     "text": [
      "Enter an exam score: 75\n",
      "You did great on your exam!\n"
     ]
    }
   ],
   "source": [
    "score = int(input(\"Enter an exam score: \"))\n",
    "\n",
    "if (score > 100):\n",
    "    print(\"You cannot have an exam score higher than 100.\")\n",
    "elif ((score <= 100) and (score >= 75)):\n",
    "    print(\"You did great on your exam!\")\n",
    "elif (score < 75):\n",
    "    print(\"You need to study harder.\")"
   ]
  },
  {
   "cell_type": "markdown",
   "metadata": {},
   "source": [
    "Exercise 4. \n",
    "Define two functions: \n",
    "    - a function that takes 3 arguements and returns the sum of three arguements\n",
    "    - a function that takes 2 arguements and returns the result of 1st arguement multiplied by 2nd arguement\n",
    "\n",
    "Then tell the user to choose option 1 to add three numbers or option 2 to multiply two numbers.\n",
    "If the user choose option 1 then call the addition function, otherwise if they choose option 2 then call the mulitplication function.  If the user choose anything other than option 1 or 2, then generate a friendly error messsage"
   ]
  },
  {
   "cell_type": "code",
   "execution_count": 13,
   "metadata": {},
   "outputs": [
    {
     "name": "stdout",
     "output_type": "stream",
     "text": [
      "1. Find sum of 3 numbers\n",
      "2. Multiply two numbers\n",
      "\n",
      "Choose an option: 1\n",
      "\n",
      "Enter the first number: 2\n",
      "Enter the second number: 2\n",
      "Enter the third number: 2\n",
      "\n",
      "The sum is 6\n"
     ]
    }
   ],
   "source": [
    "# function to find sum of three numbers\n",
    "def addition(val1, val2, val3):\n",
    "    \n",
    "    total = val1 + val2 + val3\n",
    "    print(\"\\nThe sum is\", total)\n",
    "    \n",
    "    return\n",
    "\n",
    "# function to multiply two numbers\n",
    "def multi(val1, val2):\n",
    "    \n",
    "    total = val1 * val2\n",
    "    print(\"\\nThe total is\", total)\n",
    "    \n",
    "    return\n",
    "    \n",
    "# main function\n",
    "option = int(input(\"1. Find sum of 3 numbers\\n2. Multiply two numbers\\n\\nChoose an option: \"))\n",
    "\n",
    "if (option == 1):\n",
    "    \n",
    "    num1 = int(input(\"\\nEnter the first number: \"))\n",
    "    num2 = int(input(\"Enter the second number: \"))\n",
    "    num3 = int(input(\"Enter the third number: \"))\n",
    "    \n",
    "    # call addition function\n",
    "    addition(num1, num2, num3)\n",
    "    \n",
    "elif (option == 2):\n",
    "    \n",
    "    num1 = int(input(\"\\nEnter the first number: \"))\n",
    "    num2 - int(input(\"Enter the second number: \"))\n",
    "    \n",
    "    # call multiplication function\n",
    "    multi(num1, num2)\n"
   ]
  },
  {
   "cell_type": "markdown",
   "metadata": {},
   "source": [
    "Exercise 5. \n",
    "Write a function to convert a test score to a grade where  \n",
    " - 90 - 100: A\n",
    " - 80 - 89:  B\n",
    " - 70 - 79:  C\n",
    " - 60 - 69:  D\n",
    " - < 60   :  F\n",
    " \n",
    "If a score is not between 0 and 100 then print out an error message. In the program, ask the user for a score and then call your function. "
   ]
  },
  {
   "cell_type": "code",
   "execution_count": 36,
   "metadata": {},
   "outputs": [
    {
     "name": "stdout",
     "output_type": "stream",
     "text": [
      "Enter your score: 90\n",
      "You scored an A.\n"
     ]
    }
   ],
   "source": [
    "# function to convert test score to letter grade\n",
    "def grade(score):\n",
    "    \n",
    "    if ((score >= 0) and (score <= 100)):\n",
    "        if ((score >= 90) and (score <=100)):\n",
    "            print(\"You scored an A.\")\n",
    "        elif((score >= 80) and (score <= 89)):\n",
    "            print(\"You scored a B.\")\n",
    "        elif ((score >= 70) and (score <= 79)):\n",
    "            print(\"You scored a C.\")\n",
    "        elif ((score >= 60) and (score <= 69)):\n",
    "            print(\"You scored a D.\")\n",
    "        elif (score < 60):\n",
    "            print(\"You earned an F.\")\n",
    "    else:\n",
    "        print(\"Error! Please enter a score between 0 and 100.\")\n",
    "    \n",
    "    return\n",
    "\n",
    "# main function\n",
    "value = int(input(\"Enter your score: \"))\n",
    "\n",
    "# calling function to print out letter grade\n",
    "grade(value)"
   ]
  },
  {
   "cell_type": "markdown",
   "metadata": {},
   "source": [
    "Exercise 6. Write a program to compute discounts for customers.  \n",
    "- For retail customers, \n",
    "    - if invoice total is greater than \\$100 then discount rate is 10\\%, otherwise no discount \n",
    "\n",
    "- For wholesale customers,\n",
    "    - if invoice total is greater than \\$500 then discount rate is 30\\%, otherwise discount rate is 20\\%\n",
    "    \n",
    "Get the type of customer and the invoice total from the user."
   ]
  },
  {
   "cell_type": "code",
   "execution_count": 35,
   "metadata": {},
   "outputs": [
    {
     "name": "stdout",
     "output_type": "stream",
     "text": [
      "Are you a retail or wholesale customer (r/w)?: r\n",
      "Enter invoice total: 105\n",
      "The discount rate is 10%.\n",
      "Your final total is: $94.50\n"
     ]
    }
   ],
   "source": [
    "typecust = str(input(\"Are you a retail or wholesale customer (r/w)?: \"))\n",
    "\n",
    "if ((typecust == 'r') or (typecust == 'w')):\n",
    "    if (typecust == 'r'):\n",
    "        invoice = float(input(\"Enter invoice total: \"))\n",
    "        if (invoice > 100):\n",
    "            discount = invoice * 0.10\n",
    "            final = invoice - discount\n",
    "            print(f\"The discount rate is 10%.\\nYour final total is: ${final:.2f}\")\n",
    "        elif (invoice <= 100):\n",
    "            print(\"No discount.\")\n",
    "    if (typecust == 'w'):\n",
    "        invoice = float(input(\"Enter invoice total: \"))\n",
    "        if (invoice > 500):\n",
    "            discount = invoice * 0.30\n",
    "            final = invoice - discount\n",
    "            print(f\"The discount rate is 30%.\\nYour final total is: ${final:.2f}\")\n",
    "        elif (invoice <= 500):\n",
    "            discount = invoice * 0.20\n",
    "            final = invoice - discount\n",
    "            print(f\"The discount rate is 20%.\\nYour final total is: ${final:.2f}\")\n",
    "        "
   ]
  },
  {
   "cell_type": "markdown",
   "metadata": {},
   "source": [
    "Exercise 7: Write a function that accepts two parameters (a and b) and returns a result of a/b.  In this function, try to catch any exception error.  Then, write a program to get two numbers from a user, call your function using these two numbers, and print out the result in a friendly format.  All input and print statements must be done in the main program. Repeat the process until user wants to quit the program. "
   ]
  },
  {
   "cell_type": "code",
   "execution_count": 45,
   "metadata": {},
   "outputs": [
    {
     "name": "stdout",
     "output_type": "stream",
     "text": [
      "Please enter the first number: b\n"
     ]
    },
    {
     "ename": "ValueError",
     "evalue": "invalid literal for int() with base 10: 'b'",
     "output_type": "error",
     "traceback": [
      "\u001b[1;31m---------------------------------------------------------------------------\u001b[0m",
      "\u001b[1;31mValueError\u001b[0m                                Traceback (most recent call last)",
      "\u001b[1;32m~\\AppData\\Local\\Temp\\ipykernel_3004\\1912718547.py\u001b[0m in \u001b[0;36m<module>\u001b[1;34m\u001b[0m\n\u001b[0;32m      8\u001b[0m \u001b[0mnum1\u001b[0m \u001b[1;33m=\u001b[0m \u001b[1;33m(\u001b[0m\u001b[0minput\u001b[0m\u001b[1;33m(\u001b[0m\u001b[1;34m\"Please enter the first number: \"\u001b[0m\u001b[1;33m)\u001b[0m\u001b[1;33m)\u001b[0m\u001b[1;33m\u001b[0m\u001b[1;33m\u001b[0m\u001b[0m\n\u001b[0;32m      9\u001b[0m \u001b[1;33m\u001b[0m\u001b[0m\n\u001b[1;32m---> 10\u001b[1;33m \u001b[1;32mif\u001b[0m \u001b[1;33m(\u001b[0m\u001b[0mnum1\u001b[0m \u001b[1;33m!=\u001b[0m \u001b[0mint\u001b[0m\u001b[1;33m(\u001b[0m\u001b[0mnum1\u001b[0m\u001b[1;33m)\u001b[0m\u001b[1;33m)\u001b[0m\u001b[1;33m:\u001b[0m\u001b[1;33m\u001b[0m\u001b[1;33m\u001b[0m\u001b[0m\n\u001b[0m\u001b[0;32m     11\u001b[0m     \u001b[0mprint\u001b[0m\u001b[1;33m(\u001b[0m\u001b[1;34m\"Error! Please input a number.\"\u001b[0m\u001b[1;33m)\u001b[0m\u001b[1;33m\u001b[0m\u001b[1;33m\u001b[0m\u001b[0m\n\u001b[0;32m     12\u001b[0m     \u001b[0mnum1\u001b[0m \u001b[1;33m=\u001b[0m \u001b[1;32mFalse\u001b[0m\u001b[1;33m\u001b[0m\u001b[1;33m\u001b[0m\u001b[0m\n",
      "\u001b[1;31mValueError\u001b[0m: invalid literal for int() with base 10: 'b'"
     ]
    }
   ],
   "source": [
    "def divide(a, b):\n",
    "    \n",
    "    retval = a / b\n",
    "        \n",
    "    return retval\n",
    "\n",
    "# main function\n",
    "num1 = int(input(\"Please enter the first number: \"))\n",
    "\n",
    "if (num1 != int(num1)):\n",
    "    print(\"Error! Please input a number.\")\n",
    "    \n",
    "num2 = int(input(\"Please enter the second number: \"))\n",
    "\n",
    "total = divide(num1, num2)\n",
    "print(\"The total is\", total)\n",
    "\n",
    "choice = str(input(\"Would you like to try again (y/n)?: \"))\n",
    "\n",
    "while (choice == 'y'):\n",
    "    num1 = int(input(\"Please enter the first number: \"))\n",
    "   \n",
    "    if (num1 != int(num1)):\n",
    "        print(\"Error! Please input a number.\")\n",
    "        \n",
    "    num2 = int(input(\"Please enter the second number: \"))\n",
    "    \n",
    "    total = divide(num1, num2)\n",
    "    print(\"The total is\", total)\n",
    "\n",
    "    choice = str(input(\"Would you like to try again (y/n)?: \"))\n",
    "    if (choice == 'n'):\n",
    "        print(\"Bye!\")\n"
   ]
  },
  {
   "cell_type": "markdown",
   "metadata": {},
   "source": [
    "Exercise 8: Write a function to generate a multiplication table. Then write a program to ask a user if user wants to generate a  mutiplication table for a random number or provide a number. The program should continue to run until a user wants to quit."
   ]
  },
  {
   "cell_type": "code",
   "execution_count": 103,
   "metadata": {},
   "outputs": [
    {
     "name": "stdout",
     "output_type": "stream",
     "text": [
      "Choose between a random number or your own number (random/own): random\n",
      "10 x 1 = 10\n",
      "10 x 2 = 20\n",
      "10 x 3 = 30\n",
      "10 x 4 = 40\n",
      "10 x 5 = 50\n",
      "10 x 6 = 60\n",
      "10 x 7 = 70\n",
      "10 x 8 = 80\n",
      "10 x 9 = 90\n",
      "\n",
      "Would you like to try again (y/n)?: y\n",
      "\n",
      "Choose between a random number or your own number (random/own): own\n",
      "Enter a number: 5\n",
      "5 x 1 = 5\n",
      "5 x 2 = 10\n",
      "5 x 3 = 15\n",
      "5 x 4 = 20\n",
      "5 x 5 = 25\n",
      "5 x 6 = 30\n",
      "5 x 7 = 35\n",
      "5 x 8 = 40\n",
      "5 x 9 = 45\n",
      "\n",
      "Would you like to try again (y/n)?: n\n",
      "Bye!\n"
     ]
    }
   ],
   "source": [
    "import random as rand\n",
    "\n",
    "def multiplication_table(val):\n",
    "    \n",
    "    print(val, \"x 1 =\", val * 1)\n",
    "    print(val, \"x 2 =\", val * 2)\n",
    "    print(val, \"x 3 =\", val * 3)\n",
    "    print(val, \"x 4 =\", val * 4)\n",
    "    print(val, \"x 5 =\", val * 5)\n",
    "    print(val, \"x 6 =\", val * 6)\n",
    "    print(val, \"x 7 =\", val * 7)\n",
    "    print(val, \"x 8 =\", val * 8)\n",
    "    print(val, \"x 9 =\", val * 9)\n",
    "    \n",
    "    return\n",
    "\n",
    "option = str(input(\"Choose between a random number or your own number (random/own): \"))\n",
    "\n",
    "if (option == 'random'):\n",
    "    num = rand.randint(0, 100)\n",
    "    multiplication_table(num)\n",
    "elif (option == 'own'):\n",
    "    num = int(input(\"Enter a number: \"))\n",
    "    multiplication_table(num)\n",
    "    \n",
    "choice = str(input(\"\\nWould you like to try again (y/n)?: \"))\n",
    "\n",
    "while (choice == 'y'):\n",
    "    option = str(input(\"\\nChoose between a random number or your own number (random/own): \"))\n",
    "\n",
    "    if (option == 'random'):\n",
    "        num = rand.randint()\n",
    "        multiplication_table(num)\n",
    "    elif (option == 'own'):\n",
    "        num = int(input(\"Enter a number: \"))\n",
    "        multiplication_table(num)\n",
    "    \n",
    "    choice = str(input(\"\\nWould you like to try again (y/n)?: \"))\n",
    "    \n",
    "    if (choice == 'n'):\n",
    "        print(\"Bye!\")\n",
    "             \n",
    "\n"
   ]
  },
  {
   "cell_type": "markdown",
   "metadata": {},
   "source": [
    "Exercise 9: Write a function to draw a right-triangle using a number as a character.Then, write a program to generate a random number between 1 and 9, call your function with that random number.  The output should look something like this:\n",
    "\n",
    "        base: 5\n",
    "        5\n",
    "        55\n",
    "        555\n",
    "        5555\n",
    "        55555\n",
    "\n",
    "\n",
    "        base: 8\n",
    "        8\n",
    "        88\n",
    "        888\n",
    "        8888\n",
    "        88888\n",
    "        888888\n",
    "        8888888\n",
    "        88888888"
   ]
  },
  {
   "cell_type": "code",
   "execution_count": 48,
   "metadata": {},
   "outputs": [
    {
     "name": "stdout",
     "output_type": "stream",
     "text": [
      "Base: 8\n",
      "8\n",
      "88\n",
      "888\n",
      "8888\n",
      "88888\n",
      "888888\n",
      "8888888\n",
      "88888888\n"
     ]
    }
   ],
   "source": [
    "import random as rand\n",
    "\n",
    "def triangle(val):\n",
    "    \n",
    "    print(\"Base:\", val)\n",
    "    print(str(val))\n",
    "    print(str(val) * 2)\n",
    "    print(str(val) * 3)\n",
    "    print(str(val) * 4)\n",
    "    print(str(val) * 5)\n",
    "    print(str(val) * 6)\n",
    "    print(str(val) * 7)\n",
    "    print(str(val) * 8)\n",
    "    \n",
    "    return\n",
    "\n",
    "# main function\n",
    "num = rand.randint(1, 9)\n",
    "triangle(num)"
   ]
  },
  {
   "cell_type": "markdown",
   "metadata": {},
   "source": [
    "Exercise 10: Modify function from exercise 9 to show output like this:\n",
    "\n",
    "        base: 5\n",
    "            5\n",
    "           55\n",
    "          555\n",
    "         5555 \n",
    "        55555\n",
    "        \n",
    "        base: 8\n",
    "               8\n",
    "              88\n",
    "             888\n",
    "            8888\n",
    "           88888\n",
    "          888888\n",
    "         8888888\n",
    "        88888888 "
   ]
  },
  {
   "cell_type": "code",
   "execution_count": 80,
   "metadata": {},
   "outputs": [
    {
     "name": "stdout",
     "output_type": "stream",
     "text": [
      "Base: 6\n",
      "       6\n",
      "      66\n",
      "     666\n",
      "    6666\n",
      "   66666\n",
      "  666666\n",
      " 6666666\n",
      "66666666\n"
     ]
    }
   ],
   "source": [
    "import random as rand\n",
    "\n",
    "def triangle(val):\n",
    "    \n",
    "    print(\"Base:\", val)\n",
    "    print(str(val).rjust(8, \" \"))\n",
    "    print((str(val) * 2).rjust(8, \" \"))\n",
    "    print((str(val) * 3).rjust(8, \" \"))\n",
    "    print((str(val) * 4).rjust(8, \" \"))\n",
    "    print((str(val) * 5).rjust(8, \" \"))\n",
    "    print((str(val) * 6).rjust(8, \" \"))\n",
    "    print((str(val) * 7).rjust(8, \" \"))\n",
    "    print((str(val) * 8).rjust(8, \" \"))\n",
    "    \n",
    "    return\n",
    "\n",
    "# main function\n",
    "num = rand.randint(1, 9)\n",
    "triangle(num)"
   ]
  }
 ],
 "metadata": {
  "kernelspec": {
   "display_name": "Python 3 (ipykernel)",
   "language": "python",
   "name": "python3"
  },
  "language_info": {
   "codemirror_mode": {
    "name": "ipython",
    "version": 3
   },
   "file_extension": ".py",
   "mimetype": "text/x-python",
   "name": "python",
   "nbconvert_exporter": "python",
   "pygments_lexer": "ipython3",
   "version": "3.9.13"
  }
 },
 "nbformat": 4,
 "nbformat_minor": 4
}
